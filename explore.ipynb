{
 "cells": [
  {
   "cell_type": "markdown",
   "id": "8f445123",
   "metadata": {},
   "source": [
    "# Exploration\n",
    "\n",
    "Let's start by setting up the minimal reproduction - running an instance of the pLM & qLM together & tracing this"
   ]
  },
  {
   "cell_type": "markdown",
   "id": "15be14f1",
   "metadata": {},
   "source": [
    "### Minimal Reproduction\n",
    "\n",
    "1. Create a qLM & pLM\n",
    "2. Profit\n",
    "\n"
   ]
  },
  {
   "cell_type": "code",
   "execution_count": 1,
   "id": "c1420ced",
   "metadata": {},
   "outputs": [
    {
     "name": "stdout",
     "output_type": "stream",
     "text": [
      "HI\n"
     ]
    }
   ],
   "source": []
  }
 ],
 "metadata": {
  "kernelspec": {
   "display_name": "camel",
   "language": "python",
   "name": "python3"
  },
  "language_info": {
   "codemirror_mode": {
    "name": "ipython",
    "version": 3
   },
   "file_extension": ".py",
   "mimetype": "text/x-python",
   "name": "python",
   "nbconvert_exporter": "python",
   "pygments_lexer": "ipython3",
   "version": "3.10.12"
  }
 },
 "nbformat": 4,
 "nbformat_minor": 5
}
